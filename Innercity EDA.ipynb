{
  "cells": [
    {
      "cell_type": "code",
      "execution_count": 1,
      "metadata": {
        "id": "sju3-71p5Uv_"
      },
      "outputs": [],
      "source": [
        "import pandas as pd\n",
        "import numpy as np\n",
        "import datetime\n",
        "import matplotlib.pyplot as plt\n",
        "import seaborn as sns\n",
        "import warnings\n",
        "from math import sqrt\n",
        "warnings.filterwarnings('ignore')"
      ]
    },
    {
      "cell_type": "code",
      "execution_count": 2,
      "metadata": {
        "id": "8yS1yJxR56-K"
      },
      "outputs": [
        {
          "data": {
            "text/html": [
              "<div>\n",
              "<style scoped>\n",
              "    .dataframe tbody tr th:only-of-type {\n",
              "        vertical-align: middle;\n",
              "    }\n",
              "\n",
              "    .dataframe tbody tr th {\n",
              "        vertical-align: top;\n",
              "    }\n",
              "\n",
              "    .dataframe thead th {\n",
              "        text-align: right;\n",
              "    }\n",
              "</style>\n",
              "<table border=\"1\" class=\"dataframe\">\n",
              "  <thead>\n",
              "    <tr style=\"text-align: right;\">\n",
              "      <th></th>\n",
              "      <th>cid</th>\n",
              "      <th>dayhours</th>\n",
              "      <th>price</th>\n",
              "      <th>room_bed</th>\n",
              "      <th>room_bath</th>\n",
              "      <th>living_measure</th>\n",
              "      <th>lot_measure</th>\n",
              "      <th>ceil</th>\n",
              "      <th>coast</th>\n",
              "      <th>sight</th>\n",
              "      <th>...</th>\n",
              "      <th>basement</th>\n",
              "      <th>yr_built</th>\n",
              "      <th>yr_renovated</th>\n",
              "      <th>zipcode</th>\n",
              "      <th>lat</th>\n",
              "      <th>long</th>\n",
              "      <th>living_measure15</th>\n",
              "      <th>lot_measure15</th>\n",
              "      <th>furnished</th>\n",
              "      <th>total_area</th>\n",
              "    </tr>\n",
              "  </thead>\n",
              "  <tbody>\n",
              "    <tr>\n",
              "      <th>0</th>\n",
              "      <td>3876100940</td>\n",
              "      <td>20150427T000000</td>\n",
              "      <td>600000</td>\n",
              "      <td>4.0</td>\n",
              "      <td>1.75</td>\n",
              "      <td>3050.0</td>\n",
              "      <td>9440.0</td>\n",
              "      <td>1</td>\n",
              "      <td>0</td>\n",
              "      <td>0.0</td>\n",
              "      <td>...</td>\n",
              "      <td>1250.0</td>\n",
              "      <td>1966</td>\n",
              "      <td>0</td>\n",
              "      <td>98034</td>\n",
              "      <td>47.7228</td>\n",
              "      <td>-122.183</td>\n",
              "      <td>2020.0</td>\n",
              "      <td>8660.0</td>\n",
              "      <td>0.0</td>\n",
              "      <td>12490</td>\n",
              "    </tr>\n",
              "    <tr>\n",
              "      <th>1</th>\n",
              "      <td>3145600250</td>\n",
              "      <td>20150317T000000</td>\n",
              "      <td>190000</td>\n",
              "      <td>2.0</td>\n",
              "      <td>1.00</td>\n",
              "      <td>670.0</td>\n",
              "      <td>3101.0</td>\n",
              "      <td>1</td>\n",
              "      <td>0</td>\n",
              "      <td>0.0</td>\n",
              "      <td>...</td>\n",
              "      <td>0.0</td>\n",
              "      <td>1948</td>\n",
              "      <td>0</td>\n",
              "      <td>98118</td>\n",
              "      <td>47.5546</td>\n",
              "      <td>-122.274</td>\n",
              "      <td>1660.0</td>\n",
              "      <td>4100.0</td>\n",
              "      <td>0.0</td>\n",
              "      <td>3771</td>\n",
              "    </tr>\n",
              "    <tr>\n",
              "      <th>2</th>\n",
              "      <td>7129303070</td>\n",
              "      <td>20140820T000000</td>\n",
              "      <td>735000</td>\n",
              "      <td>4.0</td>\n",
              "      <td>2.75</td>\n",
              "      <td>3040.0</td>\n",
              "      <td>2415.0</td>\n",
              "      <td>2</td>\n",
              "      <td>1</td>\n",
              "      <td>4.0</td>\n",
              "      <td>...</td>\n",
              "      <td>0.0</td>\n",
              "      <td>1966</td>\n",
              "      <td>0</td>\n",
              "      <td>98118</td>\n",
              "      <td>47.5188</td>\n",
              "      <td>-122.256</td>\n",
              "      <td>2620.0</td>\n",
              "      <td>2433.0</td>\n",
              "      <td>0.0</td>\n",
              "      <td>5455</td>\n",
              "    </tr>\n",
              "    <tr>\n",
              "      <th>3</th>\n",
              "      <td>7338220280</td>\n",
              "      <td>20141010T000000</td>\n",
              "      <td>257000</td>\n",
              "      <td>3.0</td>\n",
              "      <td>2.50</td>\n",
              "      <td>1740.0</td>\n",
              "      <td>3721.0</td>\n",
              "      <td>2</td>\n",
              "      <td>0</td>\n",
              "      <td>0.0</td>\n",
              "      <td>...</td>\n",
              "      <td>0.0</td>\n",
              "      <td>2009</td>\n",
              "      <td>0</td>\n",
              "      <td>98002</td>\n",
              "      <td>47.3363</td>\n",
              "      <td>-122.213</td>\n",
              "      <td>2030.0</td>\n",
              "      <td>3794.0</td>\n",
              "      <td>0.0</td>\n",
              "      <td>5461</td>\n",
              "    </tr>\n",
              "    <tr>\n",
              "      <th>4</th>\n",
              "      <td>7950300670</td>\n",
              "      <td>20150218T000000</td>\n",
              "      <td>450000</td>\n",
              "      <td>2.0</td>\n",
              "      <td>1.00</td>\n",
              "      <td>1120.0</td>\n",
              "      <td>4590.0</td>\n",
              "      <td>1</td>\n",
              "      <td>0</td>\n",
              "      <td>0.0</td>\n",
              "      <td>...</td>\n",
              "      <td>0.0</td>\n",
              "      <td>1924</td>\n",
              "      <td>0</td>\n",
              "      <td>98118</td>\n",
              "      <td>47.5663</td>\n",
              "      <td>-122.285</td>\n",
              "      <td>1120.0</td>\n",
              "      <td>5100.0</td>\n",
              "      <td>0.0</td>\n",
              "      <td>5710</td>\n",
              "    </tr>\n",
              "  </tbody>\n",
              "</table>\n",
              "<p>5 rows × 23 columns</p>\n",
              "</div>"
            ],
            "text/plain": [
              "          cid         dayhours   price  room_bed  room_bath  living_measure  \\\n",
              "0  3876100940  20150427T000000  600000       4.0       1.75          3050.0   \n",
              "1  3145600250  20150317T000000  190000       2.0       1.00           670.0   \n",
              "2  7129303070  20140820T000000  735000       4.0       2.75          3040.0   \n",
              "3  7338220280  20141010T000000  257000       3.0       2.50          1740.0   \n",
              "4  7950300670  20150218T000000  450000       2.0       1.00          1120.0   \n",
              "\n",
              "   lot_measure ceil coast  sight  ... basement  yr_built  yr_renovated  \\\n",
              "0       9440.0    1     0    0.0  ...   1250.0      1966             0   \n",
              "1       3101.0    1     0    0.0  ...      0.0      1948             0   \n",
              "2       2415.0    2     1    4.0  ...      0.0      1966             0   \n",
              "3       3721.0    2     0    0.0  ...      0.0      2009             0   \n",
              "4       4590.0    1     0    0.0  ...      0.0      1924             0   \n",
              "\n",
              "   zipcode      lat     long  living_measure15  lot_measure15 furnished  \\\n",
              "0    98034  47.7228 -122.183            2020.0         8660.0       0.0   \n",
              "1    98118  47.5546 -122.274            1660.0         4100.0       0.0   \n",
              "2    98118  47.5188 -122.256            2620.0         2433.0       0.0   \n",
              "3    98002  47.3363 -122.213            2030.0         3794.0       0.0   \n",
              "4    98118  47.5663 -122.285            1120.0         5100.0       0.0   \n",
              "\n",
              "   total_area  \n",
              "0       12490  \n",
              "1        3771  \n",
              "2        5455  \n",
              "3        5461  \n",
              "4        5710  \n",
              "\n",
              "[5 rows x 23 columns]"
            ]
          },
          "execution_count": 2,
          "metadata": {},
          "output_type": "execute_result"
        }
      ],
      "source": [
        "df=pd.read_excel('innercity.xlsx')\n",
        "df.head()"
      ]
    },
    {
      "cell_type": "code",
      "execution_count": 3,
      "metadata": {
        "colab": {
          "base_uri": "https://localhost:8080/"
        },
        "id": "r2QWpL8-6YPD",
        "outputId": "ea4d9374-fc9c-4067-b15c-172fa5ce7f28"
      },
      "outputs": [
        {
          "name": "stdout",
          "output_type": "stream",
          "text": [
            "<class 'pandas.core.frame.DataFrame'>\n",
            "RangeIndex: 21613 entries, 0 to 21612\n",
            "Data columns (total 23 columns):\n",
            " #   Column            Non-Null Count  Dtype  \n",
            "---  ------            --------------  -----  \n",
            " 0   cid               21613 non-null  int64  \n",
            " 1   dayhours          21613 non-null  object \n",
            " 2   price             21613 non-null  int64  \n",
            " 3   room_bed          21505 non-null  float64\n",
            " 4   room_bath         21505 non-null  float64\n",
            " 5   living_measure    21596 non-null  float64\n",
            " 6   lot_measure       21571 non-null  float64\n",
            " 7   ceil              21571 non-null  object \n",
            " 8   coast             21612 non-null  object \n",
            " 9   sight             21556 non-null  float64\n",
            " 10  condition         21556 non-null  object \n",
            " 11  quality           21612 non-null  float64\n",
            " 12  ceil_measure      21612 non-null  float64\n",
            " 13  basement          21612 non-null  float64\n",
            " 14  yr_built          21612 non-null  object \n",
            " 15  yr_renovated      21613 non-null  int64  \n",
            " 16  zipcode           21613 non-null  int64  \n",
            " 17  lat               21613 non-null  float64\n",
            " 18  long              21613 non-null  object \n",
            " 19  living_measure15  21447 non-null  float64\n",
            " 20  lot_measure15     21584 non-null  float64\n",
            " 21  furnished         21584 non-null  float64\n",
            " 22  total_area        21584 non-null  object \n",
            "dtypes: float64(12), int64(4), object(7)\n",
            "memory usage: 3.8+ MB\n"
          ]
        }
      ],
      "source": [
        "df.info()"
      ]
    },
    {
      "cell_type": "code",
      "execution_count": 4,
      "metadata": {
        "colab": {
          "base_uri": "https://localhost:8080/"
        },
        "id": "b9_Pjgbj6owK",
        "outputId": "51088ef6-d437-425b-849a-e42b5c529305"
      },
      "outputs": [
        {
          "data": {
            "text/plain": [
              "(21613, 23)"
            ]
          },
          "execution_count": 4,
          "metadata": {},
          "output_type": "execute_result"
        }
      ],
      "source": [
        "df.shape"
      ]
    },
    {
      "cell_type": "code",
      "execution_count": 5,
      "metadata": {
        "colab": {
          "base_uri": "https://localhost:8080/"
        },
        "id": "YfBYD8Py6uO_",
        "outputId": "025dac37-93c4-4c3b-f1b5-6a7ae14d900e"
      },
      "outputs": [
        {
          "name": "stdout",
          "output_type": "stream",
          "text": [
            "total percentage of null value : 3.187896173599223\n"
          ]
        }
      ],
      "source": [
        "print(f'total percentage of null value : {df.isnull().sum().sum()*100/df.shape[0]}')"
      ]
    },
    {
      "attachments": {},
      "cell_type": "markdown",
      "metadata": {},
      "source": [
        "### DATA CLEANING"
      ]
    },
    {
      "cell_type": "code",
      "execution_count": 6,
      "metadata": {
        "colab": {
          "base_uri": "https://localhost:8080/"
        },
        "id": "BLu2I6KQ8O3r",
        "outputId": "8c8196da-e742-4385-b98b-801c5a5cb65f"
      },
      "outputs": [
        {
          "data": {
            "text/plain": [
              "cid                   0\n",
              "dayhours              0\n",
              "price                 0\n",
              "room_bed            108\n",
              "room_bath           108\n",
              "living_measure       17\n",
              "lot_measure          42\n",
              "ceil                 42\n",
              "coast                 1\n",
              "sight                57\n",
              "condition            57\n",
              "quality               1\n",
              "ceil_measure          1\n",
              "basement              1\n",
              "yr_built              1\n",
              "yr_renovated          0\n",
              "zipcode               0\n",
              "lat                   0\n",
              "long                  0\n",
              "living_measure15    166\n",
              "lot_measure15        29\n",
              "furnished            29\n",
              "total_area           29\n",
              "dtype: int64"
            ]
          },
          "execution_count": 6,
          "metadata": {},
          "output_type": "execute_result"
        }
      ],
      "source": [
        "df.isnull().sum()"
      ]
    },
    {
      "cell_type": "code",
      "execution_count": 7,
      "metadata": {
        "id": "66iXxmO29U-f"
      },
      "outputs": [],
      "source": [
        "df.drop_duplicates(inplace=True)"
      ]
    },
    {
      "cell_type": "code",
      "execution_count": 8,
      "metadata": {
        "id": "1XemheEn9vAK"
      },
      "outputs": [],
      "source": [
        "df=df.dropna(axis=0,inplace=False)\n",
        "df.drop(['cid'],axis=1,inplace=True)"
      ]
    },
    {
      "cell_type": "code",
      "execution_count": 9,
      "metadata": {
        "colab": {
          "base_uri": "https://localhost:8080/"
        },
        "id": "KERs2ZBP97qF",
        "outputId": "6e12fdb0-b564-420e-a4c1-4f056409976c"
      },
      "outputs": [
        {
          "data": {
            "text/plain": [
              "(21387, 22)"
            ]
          },
          "execution_count": 9,
          "metadata": {},
          "output_type": "execute_result"
        }
      ],
      "source": [
        "df.shape"
      ]
    },
    {
      "cell_type": "code",
      "execution_count": 10,
      "metadata": {
        "colab": {
          "base_uri": "https://localhost:8080/"
        },
        "id": "PPbDiOepdxW8",
        "outputId": "5f4082e6-c6e9-4630-9baf-44af8e9c9502"
      },
      "outputs": [
        {
          "data": {
            "text/plain": [
              "dayhours             object\n",
              "price                 int64\n",
              "room_bed            float64\n",
              "room_bath           float64\n",
              "living_measure      float64\n",
              "lot_measure         float64\n",
              "ceil                 object\n",
              "coast                object\n",
              "sight               float64\n",
              "condition            object\n",
              "quality             float64\n",
              "ceil_measure        float64\n",
              "basement            float64\n",
              "yr_built             object\n",
              "yr_renovated          int64\n",
              "zipcode               int64\n",
              "lat                 float64\n",
              "long                 object\n",
              "living_measure15    float64\n",
              "lot_measure15       float64\n",
              "furnished           float64\n",
              "total_area           object\n",
              "dtype: object"
            ]
          },
          "execution_count": 10,
          "metadata": {},
          "output_type": "execute_result"
        }
      ],
      "source": [
        "(df.dtypes)"
      ]
    },
    {
      "cell_type": "code",
      "execution_count": 11,
      "metadata": {
        "colab": {
          "base_uri": "https://localhost:8080/",
          "height": 299
        },
        "id": "cPEPP_vCEG0N",
        "outputId": "7be07651-e852-4b96-a97a-83a348d6d02b"
      },
      "outputs": [
        {
          "data": {
            "text/html": [
              "<div>\n",
              "<style scoped>\n",
              "    .dataframe tbody tr th:only-of-type {\n",
              "        vertical-align: middle;\n",
              "    }\n",
              "\n",
              "    .dataframe tbody tr th {\n",
              "        vertical-align: top;\n",
              "    }\n",
              "\n",
              "    .dataframe thead th {\n",
              "        text-align: right;\n",
              "    }\n",
              "</style>\n",
              "<table border=\"1\" class=\"dataframe\">\n",
              "  <thead>\n",
              "    <tr style=\"text-align: right;\">\n",
              "      <th></th>\n",
              "      <th>dayhours</th>\n",
              "      <th>price</th>\n",
              "      <th>room_bed</th>\n",
              "      <th>room_bath</th>\n",
              "      <th>living_measure</th>\n",
              "      <th>lot_measure</th>\n",
              "      <th>ceil</th>\n",
              "      <th>coast</th>\n",
              "      <th>sight</th>\n",
              "      <th>condition</th>\n",
              "      <th>...</th>\n",
              "      <th>basement</th>\n",
              "      <th>yr_built</th>\n",
              "      <th>yr_renovated</th>\n",
              "      <th>zipcode</th>\n",
              "      <th>lat</th>\n",
              "      <th>long</th>\n",
              "      <th>living_measure15</th>\n",
              "      <th>lot_measure15</th>\n",
              "      <th>furnished</th>\n",
              "      <th>total_area</th>\n",
              "    </tr>\n",
              "  </thead>\n",
              "  <tbody>\n",
              "    <tr>\n",
              "      <th>0</th>\n",
              "      <td>20150427T000000</td>\n",
              "      <td>600000</td>\n",
              "      <td>4.0</td>\n",
              "      <td>1.75</td>\n",
              "      <td>3050.0</td>\n",
              "      <td>9440.0</td>\n",
              "      <td>1</td>\n",
              "      <td>0</td>\n",
              "      <td>0.0</td>\n",
              "      <td>3</td>\n",
              "      <td>...</td>\n",
              "      <td>1250.0</td>\n",
              "      <td>1966</td>\n",
              "      <td>0</td>\n",
              "      <td>98034</td>\n",
              "      <td>47.7228</td>\n",
              "      <td>-122.183</td>\n",
              "      <td>2020.0</td>\n",
              "      <td>8660.0</td>\n",
              "      <td>0.0</td>\n",
              "      <td>12490</td>\n",
              "    </tr>\n",
              "    <tr>\n",
              "      <th>1</th>\n",
              "      <td>20150317T000000</td>\n",
              "      <td>190000</td>\n",
              "      <td>2.0</td>\n",
              "      <td>1.00</td>\n",
              "      <td>670.0</td>\n",
              "      <td>3101.0</td>\n",
              "      <td>1</td>\n",
              "      <td>0</td>\n",
              "      <td>0.0</td>\n",
              "      <td>4</td>\n",
              "      <td>...</td>\n",
              "      <td>0.0</td>\n",
              "      <td>1948</td>\n",
              "      <td>0</td>\n",
              "      <td>98118</td>\n",
              "      <td>47.5546</td>\n",
              "      <td>-122.274</td>\n",
              "      <td>1660.0</td>\n",
              "      <td>4100.0</td>\n",
              "      <td>0.0</td>\n",
              "      <td>3771</td>\n",
              "    </tr>\n",
              "    <tr>\n",
              "      <th>2</th>\n",
              "      <td>20140820T000000</td>\n",
              "      <td>735000</td>\n",
              "      <td>4.0</td>\n",
              "      <td>2.75</td>\n",
              "      <td>3040.0</td>\n",
              "      <td>2415.0</td>\n",
              "      <td>2</td>\n",
              "      <td>1</td>\n",
              "      <td>4.0</td>\n",
              "      <td>3</td>\n",
              "      <td>...</td>\n",
              "      <td>0.0</td>\n",
              "      <td>1966</td>\n",
              "      <td>0</td>\n",
              "      <td>98118</td>\n",
              "      <td>47.5188</td>\n",
              "      <td>-122.256</td>\n",
              "      <td>2620.0</td>\n",
              "      <td>2433.0</td>\n",
              "      <td>0.0</td>\n",
              "      <td>5455</td>\n",
              "    </tr>\n",
              "    <tr>\n",
              "      <th>3</th>\n",
              "      <td>20141010T000000</td>\n",
              "      <td>257000</td>\n",
              "      <td>3.0</td>\n",
              "      <td>2.50</td>\n",
              "      <td>1740.0</td>\n",
              "      <td>3721.0</td>\n",
              "      <td>2</td>\n",
              "      <td>0</td>\n",
              "      <td>0.0</td>\n",
              "      <td>3</td>\n",
              "      <td>...</td>\n",
              "      <td>0.0</td>\n",
              "      <td>2009</td>\n",
              "      <td>0</td>\n",
              "      <td>98002</td>\n",
              "      <td>47.3363</td>\n",
              "      <td>-122.213</td>\n",
              "      <td>2030.0</td>\n",
              "      <td>3794.0</td>\n",
              "      <td>0.0</td>\n",
              "      <td>5461</td>\n",
              "    </tr>\n",
              "    <tr>\n",
              "      <th>4</th>\n",
              "      <td>20150218T000000</td>\n",
              "      <td>450000</td>\n",
              "      <td>2.0</td>\n",
              "      <td>1.00</td>\n",
              "      <td>1120.0</td>\n",
              "      <td>4590.0</td>\n",
              "      <td>1</td>\n",
              "      <td>0</td>\n",
              "      <td>0.0</td>\n",
              "      <td>3</td>\n",
              "      <td>...</td>\n",
              "      <td>0.0</td>\n",
              "      <td>1924</td>\n",
              "      <td>0</td>\n",
              "      <td>98118</td>\n",
              "      <td>47.5663</td>\n",
              "      <td>-122.285</td>\n",
              "      <td>1120.0</td>\n",
              "      <td>5100.0</td>\n",
              "      <td>0.0</td>\n",
              "      <td>5710</td>\n",
              "    </tr>\n",
              "  </tbody>\n",
              "</table>\n",
              "<p>5 rows × 22 columns</p>\n",
              "</div>"
            ],
            "text/plain": [
              "          dayhours   price  room_bed  room_bath  living_measure  lot_measure  \\\n",
              "0  20150427T000000  600000       4.0       1.75          3050.0       9440.0   \n",
              "1  20150317T000000  190000       2.0       1.00           670.0       3101.0   \n",
              "2  20140820T000000  735000       4.0       2.75          3040.0       2415.0   \n",
              "3  20141010T000000  257000       3.0       2.50          1740.0       3721.0   \n",
              "4  20150218T000000  450000       2.0       1.00          1120.0       4590.0   \n",
              "\n",
              "  ceil coast  sight condition  ...  basement  yr_built  yr_renovated zipcode  \\\n",
              "0    1     0    0.0         3  ...    1250.0      1966             0   98034   \n",
              "1    1     0    0.0         4  ...       0.0      1948             0   98118   \n",
              "2    2     1    4.0         3  ...       0.0      1966             0   98118   \n",
              "3    2     0    0.0         3  ...       0.0      2009             0   98002   \n",
              "4    1     0    0.0         3  ...       0.0      1924             0   98118   \n",
              "\n",
              "       lat     long  living_measure15 lot_measure15  furnished  total_area  \n",
              "0  47.7228 -122.183            2020.0        8660.0        0.0       12490  \n",
              "1  47.5546 -122.274            1660.0        4100.0        0.0        3771  \n",
              "2  47.5188 -122.256            2620.0        2433.0        0.0        5455  \n",
              "3  47.3363 -122.213            2030.0        3794.0        0.0        5461  \n",
              "4  47.5663 -122.285            1120.0        5100.0        0.0        5710  \n",
              "\n",
              "[5 rows x 22 columns]"
            ]
          },
          "execution_count": 11,
          "metadata": {},
          "output_type": "execute_result"
        }
      ],
      "source": [
        "data=df.copy()\n",
        "data.head()"
      ]
    },
    {
      "cell_type": "code",
      "execution_count": 12,
      "metadata": {
        "colab": {
          "base_uri": "https://localhost:8080/"
        },
        "id": "6Hbr1xIzOFvx",
        "outputId": "09115926-5859-466e-c780-11398c4d13a0"
      },
      "outputs": [
        {
          "data": {
            "text/plain": [
              "(21387, 22)"
            ]
          },
          "execution_count": 12,
          "metadata": {},
          "output_type": "execute_result"
        }
      ],
      "source": [
        "data.shape"
      ]
    },
    {
      "cell_type": "code",
      "execution_count": 13,
      "metadata": {
        "id": "QSbdMeATKQpm"
      },
      "outputs": [],
      "source": [
        "data['dayhours'] = pd.to_datetime(data.dayhours)"
      ]
    },
    {
      "attachments": {},
      "cell_type": "markdown",
      "metadata": {
        "id": "BGP23AaMe_xC"
      },
      "source": [
        "Categorical"
      ]
    },
    {
      "cell_type": "code",
      "execution_count": 14,
      "metadata": {
        "colab": {
          "base_uri": "https://localhost:8080/"
        },
        "id": "0v3Ef1nDKQsQ",
        "outputId": "9a593c65-f467-4bf0-9dc4-18fabd896d37"
      },
      "outputs": [
        {
          "name": "stdout",
          "output_type": "stream",
          "text": [
            "Categorical  columns : >>['ceil' 'coast' 'condition' 'yr_built' 'long' 'total_area']\n"
          ]
        }
      ],
      "source": [
        "print(f\"Categorical  columns : >>{data.select_dtypes('object').columns.values}\")"
      ]
    },
    {
      "cell_type": "code",
      "execution_count": 15,
      "metadata": {
        "colab": {
          "base_uri": "https://localhost:8080/",
          "height": 174
        },
        "id": "uTfgup9le-M3",
        "outputId": "b072d57f-24c5-41b1-90be-2d43fecd15d4"
      },
      "outputs": [
        {
          "data": {
            "text/html": [
              "<div>\n",
              "<style scoped>\n",
              "    .dataframe tbody tr th:only-of-type {\n",
              "        vertical-align: middle;\n",
              "    }\n",
              "\n",
              "    .dataframe tbody tr th {\n",
              "        vertical-align: top;\n",
              "    }\n",
              "\n",
              "    .dataframe thead th {\n",
              "        text-align: right;\n",
              "    }\n",
              "</style>\n",
              "<table border=\"1\" class=\"dataframe\">\n",
              "  <thead>\n",
              "    <tr style=\"text-align: right;\">\n",
              "      <th></th>\n",
              "      <th>ceil</th>\n",
              "      <th>coast</th>\n",
              "      <th>condition</th>\n",
              "      <th>yr_built</th>\n",
              "      <th>long</th>\n",
              "      <th>total_area</th>\n",
              "    </tr>\n",
              "  </thead>\n",
              "  <tbody>\n",
              "    <tr>\n",
              "      <th>count</th>\n",
              "      <td>21387</td>\n",
              "      <td>21387</td>\n",
              "      <td>21387</td>\n",
              "      <td>21387</td>\n",
              "      <td>21387.00</td>\n",
              "      <td>21387</td>\n",
              "    </tr>\n",
              "    <tr>\n",
              "      <th>unique</th>\n",
              "      <td>7</td>\n",
              "      <td>3</td>\n",
              "      <td>5</td>\n",
              "      <td>116</td>\n",
              "      <td>753.00</td>\n",
              "      <td>11094</td>\n",
              "    </tr>\n",
              "    <tr>\n",
              "      <th>top</th>\n",
              "      <td>1</td>\n",
              "      <td>0</td>\n",
              "      <td>3</td>\n",
              "      <td>2014</td>\n",
              "      <td>-122.29</td>\n",
              "      <td>$</td>\n",
              "    </tr>\n",
              "    <tr>\n",
              "      <th>freq</th>\n",
              "      <td>10547</td>\n",
              "      <td>21197</td>\n",
              "      <td>13881</td>\n",
              "      <td>554</td>\n",
              "      <td>115.00</td>\n",
              "      <td>39</td>\n",
              "    </tr>\n",
              "  </tbody>\n",
              "</table>\n",
              "</div>"
            ],
            "text/plain": [
              "         ceil  coast  condition  yr_built      long total_area\n",
              "count   21387  21387      21387     21387  21387.00      21387\n",
              "unique      7      3          5       116    753.00      11094\n",
              "top         1      0          3      2014   -122.29          $\n",
              "freq    10547  21197      13881       554    115.00         39"
            ]
          },
          "execution_count": 15,
          "metadata": {},
          "output_type": "execute_result"
        }
      ],
      "source": [
        "data.select_dtypes('object').describe()"
      ]
    },
    {
      "cell_type": "code",
      "execution_count": 16,
      "metadata": {
        "colab": {
          "base_uri": "https://localhost:8080/"
        },
        "id": "jjsmFmkax5WI",
        "outputId": "62876882-b77a-43de-e8e9-0751695351f3"
      },
      "outputs": [
        {
          "name": "stdout",
          "output_type": "stream",
          "text": [
            "Length of Data Rows Haviing $ sign :  99\n"
          ]
        }
      ],
      "source": [
        "print('Length of Data Rows Haviing $ sign : ',len(set(np.where(data=='$')[0])))"
      ]
    },
    {
      "cell_type": "code",
      "execution_count": 17,
      "metadata": {
        "colab": {
          "base_uri": "https://localhost:8080/"
        },
        "id": "g-T7HDmlQGJA",
        "outputId": "cafb2c13-d45b-4e11-f7e7-dcbe2fc8743e"
      },
      "outputs": [
        {
          "data": {
            "text/plain": [
              "(21288, 22)"
            ]
          },
          "execution_count": 17,
          "metadata": {},
          "output_type": "execute_result"
        }
      ],
      "source": [
        "for i in data.select_dtypes('object').columns :\n",
        "  data = data.iloc[np.where(data[i]!='$')[0]]\n",
        "data.shape"
      ]
    },
    {
      "cell_type": "code",
      "execution_count": 18,
      "metadata": {
        "id": "tnYdqYpzV_9B"
      },
      "outputs": [],
      "source": [
        "data['ceil']=data['ceil'].astype('category')\n",
        "data['coast']=data['coast'].astype('category')\n",
        "data['condition']=data['condition']\t.astype('category')\n",
        "data['total_area']=data['total_area'].astype('int')\n",
        "data['long']=data['long'].astype(float)"
      ]
    },
    {
      "cell_type": "code",
      "execution_count": 19,
      "metadata": {
        "id": "h5DcXDQzgvnp"
      },
      "outputs": [],
      "source": [
        "data['yr_built']=data['yr_built'].astype('int')\n",
        "current_year = datetime.datetime.now().year\n",
        "data['age']=current_year-data['yr_built']"
      ]
    },
    {
      "cell_type": "code",
      "execution_count": 20,
      "metadata": {},
      "outputs": [
        {
          "data": {
            "text/plain": [
              "Index(['dayhours', 'price', 'room_bed', 'room_bath', 'living_measure',\n",
              "       'lot_measure', 'ceil', 'coast', 'sight', 'condition', 'quality',\n",
              "       'ceil_measure', 'basement', 'yr_built', 'yr_renovated', 'zipcode',\n",
              "       'lat', 'long', 'living_measure15', 'lot_measure15', 'furnished',\n",
              "       'total_area', 'age'],\n",
              "      dtype='object')"
            ]
          },
          "execution_count": 20,
          "metadata": {},
          "output_type": "execute_result"
        }
      ],
      "source": [
        "data.columns"
      ]
    },
    {
      "cell_type": "code",
      "execution_count": 21,
      "metadata": {
        "colab": {
          "base_uri": "https://localhost:8080/"
        },
        "id": "ZezcVYdlPp8K",
        "outputId": "eef61154-5c5e-42ef-9630-30877cfa1457"
      },
      "outputs": [
        {
          "data": {
            "text/plain": [
              "dayhours              372\n",
              "price                3599\n",
              "room_bed               13\n",
              "room_bath              29\n",
              "living_measure       1035\n",
              "lot_measure          9693\n",
              "ceil                    6\n",
              "coast                   2\n",
              "sight                   5\n",
              "condition               5\n",
              "quality                12\n",
              "ceil_measure          942\n",
              "basement              305\n",
              "yr_built              116\n",
              "yr_renovated           70\n",
              "zipcode                70\n",
              "lat                  5022\n",
              "long                  752\n",
              "living_measure15      773\n",
              "lot_measure15        8614\n",
              "furnished               2\n",
              "total_area          11072\n",
              "age                   116\n",
              "dtype: int64"
            ]
          },
          "execution_count": 21,
          "metadata": {},
          "output_type": "execute_result"
        }
      ],
      "source": [
        "data.nunique()"
      ]
    },
    {
      "attachments": {},
      "cell_type": "markdown",
      "metadata": {},
      "source": [
        "### Continueus Variable"
      ]
    },
    {
      "cell_type": "code",
      "execution_count": 22,
      "metadata": {},
      "outputs": [],
      "source": [
        "# con_features = ['price','living_measure','lot_measure','living_measure15', 'lot_measure15','total_area','ceil_measure','age']"
      ]
    },
    {
      "cell_type": "code",
      "execution_count": 23,
      "metadata": {},
      "outputs": [],
      "source": [
        "# sns.pairplot(data[con_features])"
      ]
    },
    {
      "cell_type": "code",
      "execution_count": 24,
      "metadata": {},
      "outputs": [],
      "source": [
        "# data[con_features].corr()['price'].sort_values(ascending=False)"
      ]
    },
    {
      "cell_type": "code",
      "execution_count": 25,
      "metadata": {},
      "outputs": [
        {
          "data": {
            "text/plain": [
              "price               1.000000\n",
              "living_measure      0.701352\n",
              "quality             0.668567\n",
              "ceil_measure        0.604303\n",
              "living_measure15    0.586653\n",
              "furnished           0.568530\n",
              "room_bath           0.523339\n",
              "sight               0.395860\n",
              "basement            0.324347\n",
              "room_bed            0.307878\n",
              "lat                 0.307757\n",
              "yr_renovated        0.125734\n",
              "total_area          0.103581\n",
              "lot_measure         0.088464\n",
              "lot_measure15       0.081416\n",
              "yr_built            0.054680\n",
              "long                0.022102\n",
              "zipcode            -0.053700\n",
              "age                -0.054680\n",
              "Name: price, dtype: float64"
            ]
          },
          "execution_count": 25,
          "metadata": {},
          "output_type": "execute_result"
        }
      ],
      "source": [
        "data.corr()['price'].sort_values(ascending=False)"
      ]
    },
    {
      "attachments": {},
      "cell_type": "markdown",
      "metadata": {},
      "source": [
        "<li>'price' column have higher Correlation with 'living_measure' ,'living_measure15', 'ceil_measure'\n",
        "<li>positive correlation b/w Price and Latitude."
      ]
    },
    {
      "cell_type": "code",
      "execution_count": 26,
      "metadata": {},
      "outputs": [],
      "source": [
        "# data[con_features].plot(kind='bar')"
      ]
    },
    {
      "attachments": {},
      "cell_type": "markdown",
      "metadata": {},
      "source": [
        "categorical varible"
      ]
    },
    {
      "attachments": {},
      "cell_type": "markdown",
      "metadata": {},
      "source": [
        "coast"
      ]
    },
    {
      "cell_type": "code",
      "execution_count": 27,
      "metadata": {},
      "outputs": [
        {
          "name": "stdout",
          "output_type": "stream",
          "text": [
            "0    21129\n",
            "1      159\n",
            "Name: coast, dtype: int64\n"
          ]
        }
      ],
      "source": [
        "print(data['coast'].value_counts())"
      ]
    },
    {
      "cell_type": "code",
      "execution_count": 28,
      "metadata": {},
      "outputs": [
        {
          "name": "stdout",
          "output_type": "stream",
          "text": [
            "avg price for house with water front :  1668782\n",
            "avg price for house without water front :  531488\n"
          ]
        }
      ],
      "source": [
        "print('avg price for house with water front : ',int(data[data['coast']==1]['price'].mean()))\n",
        "print('avg price for house without water front : ',int(data[data['coast']==0]['price'].mean()))"
      ]
    },
    {
      "attachments": {},
      "cell_type": "markdown",
      "metadata": {},
      "source": [
        "<li>coast with water beach view have higher price"
      ]
    },
    {
      "cell_type": "code",
      "execution_count": 29,
      "metadata": {},
      "outputs": [
        {
          "data": {
            "text/plain": [
              "<Axes: xlabel='condition', ylabel='Density'>"
            ]
          },
          "execution_count": 29,
          "metadata": {},
          "output_type": "execute_result"
        },
        {
          "data": {
            "image/png": "[encoded data removed]",
            "text/plain": [
              "<Figure size 640x480 with 1 Axes>"
            ]
          },
          "metadata": {},
          "output_type": "display_data"
        }
      ],
      "source": [
        "sns.distplot(data['condition'])"
      ]
    },
    {
      "cell_type": "code",
      "execution_count": 30,
      "metadata": {},
      "outputs": [
        {
          "data": {
            "text/plain": [
              "<Axes: xlabel='quality', ylabel='Density'>"
            ]
          },
          "execution_count": 30,
          "metadata": {},
          "output_type": "execute_result"
        },
        {
          "data": {
            "image/png": "[encoded data removed]",
            "text/plain": [
              "<Figure size 640x480 with 1 Axes>"
            ]
          },
          "metadata": {},
          "output_type": "display_data"
        }
      ],
      "source": [
        "sns.distplot(data['quality'])"
      ]
    },
    {
      "cell_type": "code",
      "execution_count": 31,
      "metadata": {
        "colab": {
          "base_uri": "https://localhost:8080/",
          "height": 467
        },
        "id": "Xd1sdJV1Pp_l",
        "outputId": "c86bba96-87b2-433e-e660-5c0b5b6b0fb1"
      },
      "outputs": [
        {
          "data": {
            "text/plain": [
              "<Axes: xlabel='room_bath', ylabel='Density'>"
            ]
          },
          "execution_count": 31,
          "metadata": {},
          "output_type": "execute_result"
        },
        {
          "data": {
            "image/png": "[encoded data removed]",
            "text/plain": [
              "<Figure size 640x480 with 1 Axes>"
            ]
          },
          "metadata": {},
          "output_type": "display_data"
        }
      ],
      "source": [
        "sns.distplot(data['room_bath'])"
      ]
    },
    {
      "cell_type": "code",
      "execution_count": 32,
      "metadata": {},
      "outputs": [],
      "source": [
        "data = data.drop(['yr_built','sight','zipcode'],axis=1)"
      ]
    },
    {
      "attachments": {},
      "cell_type": "markdown",
      "metadata": {},
      "source": [
        "## Feature selection"
      ]
    },
    {
      "cell_type": "code",
      "execution_count": 33,
      "metadata": {},
      "outputs": [],
      "source": [
        "X = data.drop(['price','dayhours'],axis=1)\n",
        "y = data['price']"
      ]
    },
    {
      "cell_type": "code",
      "execution_count": 34,
      "metadata": {},
      "outputs": [],
      "source": [
        "from sklearn.model_selection import train_test_split\n",
        "X_train,X_test,y_train,y_test = train_test_split(X,y,test_size=0.3,random_state=100)"
      ]
    },
    {
      "attachments": {},
      "cell_type": "markdown",
      "metadata": {},
      "source": [
        "### outliers Removed"
      ]
    },
    {
      "cell_type": "code",
      "execution_count": 35,
      "metadata": {
        "id": "2jwH-_2HflIt"
      },
      "outputs": [
        {
          "name": "stdout",
          "output_type": "stream",
          "text": [
            "Q3 :  645000.0 \tQ1 :  321020.25\n",
            "IQR : 323979.75\n",
            "lower_range : -164949.375\n",
            "high_range : 1130969.625\n"
          ]
        }
      ],
      "source": [
        "Q1 = data['price'].quantile(0.25)\n",
        "Q3 = data['price'].quantile(0.75)\n",
        "IQR = Q3 - Q1\n",
        "lower = Q1 - 1.5*IQR\n",
        "upper = Q3 + 1.5*IQR\n",
        "print('Q3 : ',Q3,'\\tQ1 : ',Q1)\n",
        "print(f'IQR : {IQR}')\n",
        "print(f'lower_range : {lower}\\nhigh_range : {upper}')"
      ]
    },
    {
      "cell_type": "code",
      "execution_count": 36,
      "metadata": {
        "id": "TR6c46j4XvPX"
      },
      "outputs": [
        {
          "name": "stdout",
          "output_type": "stream",
          "text": [
            "(1123,) (0,)\n",
            "old Shape:  (21288, 20)\n",
            "New Shape:  (20165, 20)\n"
          ]
        }
      ],
      "source": [
        "# Create arrays of Boolean values indicating the outlier rows\n",
        "upper_array = data[data['price']>=upper].index\n",
        "lower_array = data[data['price']<=lower].index\n",
        "print(upper_array.shape,lower_array.shape)\n",
        "# Removing the outliers\n",
        "clean = data.drop(index=upper_array, inplace=False,axis=1)\n",
        "clean = clean.drop(index=lower_array, inplace=False,axis=1)\n",
        "\n",
        "# Print the new shape of the DataFrame\n",
        "print(\"old Shape: \", data.shape)\n",
        "print(\"New Shape: \", clean.shape)"
      ]
    },
    {
      "cell_type": "code",
      "execution_count": 37,
      "metadata": {
        "id": "RqKyhELudciS"
      },
      "outputs": [],
      "source": [
        "X_train1,X_test1,y_train1,y_test1 = train_test_split(clean[X.columns],clean['price'],test_size=0.3,random_state=100)"
      ]
    },
    {
      "attachments": {},
      "cell_type": "markdown",
      "metadata": {},
      "source": [
        "## model"
      ]
    },
    {
      "cell_type": "code",
      "execution_count": 38,
      "metadata": {},
      "outputs": [],
      "source": [
        "models = {'name':[],'rmse':[],'training_time':[],'prediction_time':[]}"
      ]
    },
    {
      "cell_type": "code",
      "execution_count": 39,
      "metadata": {},
      "outputs": [],
      "source": [
        "from sklearn.pipeline import Pipeline\n",
        "from sklearn.preprocessing import StandardScaler\n",
        "from sklearn.model_selection import GridSearchCV\n",
        "from sklearn.metrics import mean_squared_error\n",
        "import time"
      ]
    },
    {
      "cell_type": "code",
      "execution_count": 40,
      "metadata": {},
      "outputs": [
        {
          "name": "stdout",
          "output_type": "stream",
          "text": [
            "with outliers rmse :  162912.53819226666\n",
            "without outliers rmse :  102831.93534641631\n"
          ]
        }
      ],
      "source": [
        "from sklearn.linear_model import LinearRegression\n",
        "from sklearn.preprocessing import PolynomialFeatures\n",
        "from sklearn.preprocessing import StandardScaler\n",
        "ridge_clf = Pipeline([\n",
        "    ('scaler',StandardScaler()),\n",
        "    ('poly',PolynomialFeatures(degree=2)),\n",
        "    ('lr_model',LinearRegression())\n",
        "])\n",
        "\n",
        "\n",
        "start = time.time()\n",
        "ridge_clf.fit(X_train,y_train)\n",
        "end = time.time()\n",
        "t1 = end - start \n",
        "start = time.time()\n",
        "pred = ridge_clf.predict(X_test)\n",
        "end = time.time()\n",
        "t2 = end - start \n",
        "\n",
        "print('with outliers rmse : ',sqrt(mean_squared_error(y_test,pred)))\n",
        "models['name'].append(ridge_clf[2].__class__.__name__ + ' with outliers')\n",
        "models['rmse'].append(sqrt(mean_squared_error(y_test,pred)))\n",
        "models['training_time'].append(t1)\n",
        "models['prediction_time'].append(t2)\n",
        "# LinearRegression\n",
        "ridge_clf1 = Pipeline([\n",
        "    ('scaler',StandardScaler()),\n",
        "    ('poly',PolynomialFeatures(degree=2)),\n",
        "    ('lr_model',LinearRegression())\n",
        "])\n",
        "start = time.time()\n",
        "ridge_clf1.fit(X_train1,y_train1)\n",
        "end = time.time()\n",
        "t1 = end - start \n",
        "\n",
        "start = time.time()\n",
        "pred = ridge_clf1.predict(X_test1)\n",
        "end = time.time()\n",
        "t2 = end - start \n",
        "\n",
        "print('without outliers rmse : ',sqrt(mean_squared_error(y_test1,pred)))\n",
        "models['name'].append(ridge_clf1[2].__class__.__name__ + ' without outliers')\n",
        "models['rmse'].append(sqrt(mean_squared_error(y_test1,pred)))\n",
        "models['training_time'].append(t1)\n",
        "models['prediction_time'].append(t2)\n"
      ]
    },
    {
      "cell_type": "code",
      "execution_count": 41,
      "metadata": {},
      "outputs": [
        {
          "name": "stdout",
          "output_type": "stream",
          "text": [
            "best parameter : DecisionTreeRegressor(max_depth=6, max_leaf_nodes=13)\n",
            "with outliers rmse :  213881.13300225997\n",
            "best parameter : DecisionTreeRegressor(max_depth=6, max_leaf_nodes=13)\n",
            "without outliers rmse :  120586.60618173638\n"
          ]
        }
      ],
      "source": [
        "from sklearn.tree import DecisionTreeRegressor\n",
        "params = {'max_depth':[2,3,4,5,6,7,8,9,10],'max_leaf_nodes':[2,3,4,5,6,7,8,9,10,11,12,13]}\n",
        "dtree_clf = GridSearchCV(estimator=DecisionTreeRegressor(),param_grid=params)\n",
        "start = time.time()\n",
        "dtree_clf.fit(X_train,y_train)\n",
        "end = time.time()\n",
        "t1 = end - start \n",
        "\n",
        "start = time.time()\n",
        "pred = dtree_clf.predict(X_test)\n",
        "end = time.time()\n",
        "t2 = end - start \n",
        "\n",
        "print('best parameter :',dtree_clf.best_estimator_)\n",
        "print('with outliers rmse : ',sqrt(mean_squared_error(y_test,pred)))\n",
        "models['name'].append(dtree_clf.__class__.__name__ + ' with outliers')\n",
        "models['rmse'].append(sqrt(mean_squared_error(y_test,pred)))\n",
        "models['training_time'].append(t1)\n",
        "models['prediction_time'].append(t2)\n",
        "\n",
        "# DecisionTree\n",
        "params = {'max_depth':[2,3,4,5,6,7,8,9,10],'max_leaf_nodes':[2,3,4,5,6,7,8,9,10,11,12,13]}\n",
        "dtree_clf1 = GridSearchCV(estimator=DecisionTreeRegressor(),param_grid=params)\n",
        "start = time.time()\n",
        "dtree_clf1.fit(X_train1,y_train1)\n",
        "end = time.time()\n",
        "t1 = end - start \n",
        "start = time.time()\n",
        "pred = dtree_clf1.predict(X_test1)\n",
        "end = time.time()\n",
        "t2 = end - start \n",
        "\n",
        "print('best parameter :',dtree_clf1.best_estimator_)\n",
        "print('without outliers rmse : ',sqrt(mean_squared_error(y_test1,pred)))\n",
        "models['name'].append(dtree_clf1.__class__.__name__ + ' without outliers')\n",
        "models['rmse'].append(sqrt(mean_squared_error(y_test1,pred)))\n",
        "models['training_time'].append(t1)\n",
        "models['prediction_time'].append(t2)"
      ]
    },
    {
      "cell_type": "code",
      "execution_count": 42,
      "metadata": {},
      "outputs": [
        {
          "name": "stdout",
          "output_type": "stream",
          "text": [
            "with outliers rmse :  128383.71690309762\n",
            "without outliers rmse :  78253.94151714598\n"
          ]
        }
      ],
      "source": [
        "from sklearn.ensemble import RandomForestRegressor\n",
        "forest_clf = RandomForestRegressor(n_estimators=100)\n",
        "\n",
        "start = time.time()\n",
        "forest_clf.fit(X_train,y_train)\n",
        "end = time.time()\n",
        "t1 = end - start \n",
        "\n",
        "start = time.time()\n",
        "pred = forest_clf.predict(X_test)\n",
        "end = time.time()\n",
        "t2 = end - start \n",
        "\n",
        "print('with outliers rmse : ',sqrt(mean_squared_error(y_test,pred)))\n",
        "models['name'].append(forest_clf.__class__.__name__ + ' with outliers')\n",
        "models['rmse'].append(sqrt(mean_squared_error(y_test,pred)))\n",
        "models['training_time'].append(t1)\n",
        "models['prediction_time'].append(t2)\n",
        "# RandomForest\n",
        "forest_clf1 = RandomForestRegressor(n_estimators=100)\n",
        "start = time.time()\n",
        "forest_clf1.fit(X_train1,y_train1)\n",
        "end = time.time()\n",
        "t1 = end - start \n",
        "start = time.time()\n",
        "pred = forest_clf1.predict(X_test1)\n",
        "end = time.time()\n",
        "t2 = end - start \n",
        "\n",
        "print('without outliers rmse : ',sqrt(mean_squared_error(y_test1,pred)))\n",
        "models['name'].append(forest_clf1.__class__.__name__ + ' without outliers')\n",
        "models['rmse'].append(sqrt(mean_squared_error(y_test1,pred)))\n",
        "models['training_time'].append(t1)\n",
        "models['prediction_time'].append(t2)"
      ]
    },
    {
      "cell_type": "code",
      "execution_count": 43,
      "metadata": {},
      "outputs": [
        {
          "name": "stdout",
          "output_type": "stream",
          "text": [
            "with outliers rmse :  137633.5521871835\n",
            "without outliers rmse :  84703.52080738376\n"
          ]
        }
      ],
      "source": [
        "from sklearn.ensemble import GradientBoostingRegressor\n",
        "grad_clf = GradientBoostingRegressor()\n",
        "start = time.time()\n",
        "grad_clf.fit(X_train,y_train)\n",
        "end = time.time()\n",
        "t1 = end - start \n",
        "start = time.time()\n",
        "pred = grad_clf.predict(X_test)\n",
        "end = time.time()\n",
        "t2 = end - start \n",
        "\n",
        "print('with outliers rmse : ',sqrt(mean_squared_error(y_test,pred)))\n",
        "\n",
        "models['name'].append(grad_clf.__class__.__name__ + ' with outliers')\n",
        "models['rmse'].append(sqrt(mean_squared_error(y_test,pred)))\n",
        "models['training_time'].append(t1)\n",
        "models['prediction_time'].append(t2)\n",
        "# Gradient Boosting\n",
        "grad_clf1 = GradientBoostingRegressor()\n",
        "start = time.time()\n",
        "grad_clf1.fit(X_train1,y_train1)\n",
        "end = time.time()\n",
        "t1 = end - start \n",
        "start = time.time()\n",
        "pred = grad_clf1.predict(X_test1)\n",
        "end = time.time()\n",
        "t2 = end - start \n",
        "\n",
        "print('without outliers rmse : ',sqrt(mean_squared_error(y_test1,pred)))\n",
        "models['name'].append(grad_clf1.__class__.__name__ + ' without outliers')\n",
        "models['rmse'].append(sqrt(mean_squared_error(y_test1,pred)))\n",
        "models['training_time'].append(t1)\n",
        "models['prediction_time'].append(t2)"
      ]
    },
    {
      "cell_type": "code",
      "execution_count": 44,
      "metadata": {},
      "outputs": [
        {
          "name": "stdout",
          "output_type": "stream",
          "text": [
            "with outliers rmse :  367244.0392823733\n",
            "without outliers rmse :  207616.99625748387\n"
          ]
        }
      ],
      "source": [
        "from sklearn.svm import SVR\n",
        "svr_clf = Pipeline([('scaler',StandardScaler()),('svr',SVR())])\n",
        "\n",
        "start = time.time()\n",
        "svr_clf.fit(X_train,y_train)\n",
        "end = time.time()\n",
        "t1 = end - start \n",
        "start = time.time()\n",
        "pred = svr_clf.predict(X_test)\n",
        "end = time.time()\n",
        "t2 = end - start \n",
        "print('with outliers rmse : ',sqrt(mean_squared_error(y_test,pred)))\n",
        "models['name'].append(svr_clf[1].__class__.__name__ + ' with outliers')\n",
        "models['rmse'].append(sqrt(mean_squared_error(y_test,pred)))\n",
        "models['training_time'].append(t1)\n",
        "models['prediction_time'].append(t2)\n",
        "# SVM\n",
        "svr_clf1 = Pipeline([('scaler',StandardScaler()),('svr',SVR())])\n",
        "start = time.time()\n",
        "svr_clf1.fit(X_train1,y_train1)\n",
        "end = time.time()\n",
        "t1 = end - start \n",
        "start = time.time()\n",
        "pred = svr_clf1.predict(X_test1)\n",
        "end = time.time()\n",
        "t2 = end - start \n",
        "\n",
        "print('without outliers rmse : ',sqrt(mean_squared_error(y_test1,pred)))\n",
        "models['name'].append(svr_clf1[1].__class__.__name__ + ' without outliers')\n",
        "models['rmse'].append(sqrt(mean_squared_error(y_test1,pred)))\n",
        "models['training_time'].append(t1)\n",
        "models['prediction_time'].append(t2)"
      ]
    },
    {
      "cell_type": "code",
      "execution_count": 45,
      "metadata": {
        "id": "1GpW8UVMiWJS"
      },
      "outputs": [
        {
          "name": "stdout",
          "output_type": "stream",
          "text": [
            "with outliers rmse :  159765.8844139439\n",
            "without outliers rmse :  98936.41073472814\n"
          ]
        }
      ],
      "source": [
        "from sklearn.neighbors import KNeighborsRegressor\n",
        "knn_clf = Pipeline([\n",
        "    ('scaler',StandardScaler()),\n",
        "    ('knn_model',KNeighborsRegressor()),\n",
        "])\n",
        "\n",
        "start = time.time()\n",
        "knn_clf.fit(X_train,y_train)\n",
        "end = time.time()\n",
        "t1 = end - start \n",
        "start = time.time()\n",
        "pred = knn_clf.predict(X_test)\n",
        "end = time.time()\n",
        "t2 = end - start \n",
        "\n",
        "print('with outliers rmse : ',sqrt(mean_squared_error(y_test,pred)))\n",
        "models['name'].append(knn_clf[1].__class__.__name__ + ' with outliers')\n",
        "models['rmse'].append(sqrt(mean_squared_error(y_test,pred)))\n",
        "models['training_time'].append(t1)\n",
        "models['prediction_time'].append(t2)\n",
        "\n",
        "# KNN\n",
        "knn_clf1 = Pipeline([\n",
        "    ('scaler',StandardScaler()),\n",
        "    ('knn_model',KNeighborsRegressor()),\n",
        "])\n",
        "start = time.time()\n",
        "knn_clf1.fit(X_train1,y_train1)\n",
        "end = time.time()\n",
        "t1 = end - start \n",
        "start = time.time()\n",
        "pred = knn_clf1.predict(X_test1)\n",
        "end = time.time()\n",
        "t2 = end - start \n",
        "\n",
        "print('without outliers rmse : ',sqrt(mean_squared_error(y_test1,pred)))\n",
        "models['name'].append(knn_clf1[1].__class__.__name__ + ' without outliers')\n",
        "models['rmse'].append(sqrt(mean_squared_error(y_test1,pred)))\n",
        "models['training_time'].append(t1)\n",
        "models['prediction_time'].append(t2)"
      ]
    },
    {
      "attachments": {},
      "cell_type": "markdown",
      "metadata": {},
      "source": [
        "test"
      ]
    },
    {
      "cell_type": "code",
      "execution_count": 46,
      "metadata": {},
      "outputs": [
        {
          "data": {
            "text/html": [
              "<div>\n",
              "<style scoped>\n",
              "    .dataframe tbody tr th:only-of-type {\n",
              "        vertical-align: middle;\n",
              "    }\n",
              "\n",
              "    .dataframe tbody tr th {\n",
              "        vertical-align: top;\n",
              "    }\n",
              "\n",
              "    .dataframe thead th {\n",
              "        text-align: right;\n",
              "    }\n",
              "</style>\n",
              "<table border=\"1\" class=\"dataframe\">\n",
              "  <thead>\n",
              "    <tr style=\"text-align: right;\">\n",
              "      <th></th>\n",
              "      <th>name</th>\n",
              "      <th>rmse</th>\n",
              "      <th>training_time</th>\n",
              "      <th>prediction_time</th>\n",
              "    </tr>\n",
              "  </thead>\n",
              "  <tbody>\n",
              "    <tr>\n",
              "      <th>0</th>\n",
              "      <td>LinearRegression with outliers</td>\n",
              "      <td>162912.538192</td>\n",
              "      <td>0.188244</td>\n",
              "      <td>0.014015</td>\n",
              "    </tr>\n",
              "    <tr>\n",
              "      <th>1</th>\n",
              "      <td>LinearRegression without outliers</td>\n",
              "      <td>102831.935346</td>\n",
              "      <td>0.161443</td>\n",
              "      <td>0.015995</td>\n",
              "    </tr>\n",
              "    <tr>\n",
              "      <th>2</th>\n",
              "      <td>GridSearchCV with outliers</td>\n",
              "      <td>213881.133002</td>\n",
              "      <td>21.578320</td>\n",
              "      <td>0.007967</td>\n",
              "    </tr>\n",
              "    <tr>\n",
              "      <th>3</th>\n",
              "      <td>GridSearchCV without outliers</td>\n",
              "      <td>120586.606182</td>\n",
              "      <td>24.829332</td>\n",
              "      <td>0.000000</td>\n",
              "    </tr>\n",
              "    <tr>\n",
              "      <th>4</th>\n",
              "      <td>RandomForestRegressor with outliers</td>\n",
              "      <td>128383.716903</td>\n",
              "      <td>25.041929</td>\n",
              "      <td>0.186364</td>\n",
              "    </tr>\n",
              "    <tr>\n",
              "      <th>5</th>\n",
              "      <td>RandomForestRegressor without outliers</td>\n",
              "      <td>78253.941517</td>\n",
              "      <td>22.153972</td>\n",
              "      <td>0.176576</td>\n",
              "    </tr>\n",
              "    <tr>\n",
              "      <th>6</th>\n",
              "      <td>GradientBoostingRegressor with outliers</td>\n",
              "      <td>137633.552187</td>\n",
              "      <td>4.638266</td>\n",
              "      <td>0.016847</td>\n",
              "    </tr>\n",
              "    <tr>\n",
              "      <th>7</th>\n",
              "      <td>GradientBoostingRegressor without outliers</td>\n",
              "      <td>84703.520807</td>\n",
              "      <td>4.139157</td>\n",
              "      <td>0.016000</td>\n",
              "    </tr>\n",
              "    <tr>\n",
              "      <th>8</th>\n",
              "      <td>SVR with outliers</td>\n",
              "      <td>367244.039282</td>\n",
              "      <td>15.207876</td>\n",
              "      <td>10.849395</td>\n",
              "    </tr>\n",
              "    <tr>\n",
              "      <th>9</th>\n",
              "      <td>SVR without outliers</td>\n",
              "      <td>207616.996257</td>\n",
              "      <td>13.532840</td>\n",
              "      <td>12.000035</td>\n",
              "    </tr>\n",
              "    <tr>\n",
              "      <th>10</th>\n",
              "      <td>KNeighborsRegressor with outliers</td>\n",
              "      <td>159765.884414</td>\n",
              "      <td>0.024946</td>\n",
              "      <td>0.409338</td>\n",
              "    </tr>\n",
              "    <tr>\n",
              "      <th>11</th>\n",
              "      <td>KNeighborsRegressor without outliers</td>\n",
              "      <td>98936.410735</td>\n",
              "      <td>0.015982</td>\n",
              "      <td>0.232118</td>\n",
              "    </tr>\n",
              "  </tbody>\n",
              "</table>\n",
              "</div>"
            ],
            "text/plain": [
              "                                          name           rmse  training_time  \\\n",
              "0               LinearRegression with outliers  162912.538192       0.188244   \n",
              "1            LinearRegression without outliers  102831.935346       0.161443   \n",
              "2                   GridSearchCV with outliers  213881.133002      21.578320   \n",
              "3                GridSearchCV without outliers  120586.606182      24.829332   \n",
              "4          RandomForestRegressor with outliers  128383.716903      25.041929   \n",
              "5       RandomForestRegressor without outliers   78253.941517      22.153972   \n",
              "6      GradientBoostingRegressor with outliers  137633.552187       4.638266   \n",
              "7   GradientBoostingRegressor without outliers   84703.520807       4.139157   \n",
              "8                            SVR with outliers  367244.039282      15.207876   \n",
              "9                         SVR without outliers  207616.996257      13.532840   \n",
              "10           KNeighborsRegressor with outliers  159765.884414       0.024946   \n",
              "11        KNeighborsRegressor without outliers   98936.410735       0.015982   \n",
              "\n",
              "    prediction_time  \n",
              "0          0.014015  \n",
              "1          0.015995  \n",
              "2          0.007967  \n",
              "3          0.000000  \n",
              "4          0.186364  \n",
              "5          0.176576  \n",
              "6          0.016847  \n",
              "7          0.016000  \n",
              "8         10.849395  \n",
              "9         12.000035  \n",
              "10         0.409338  \n",
              "11         0.232118  "
            ]
          },
          "execution_count": 46,
          "metadata": {},
          "output_type": "execute_result"
        }
      ],
      "source": [
        "pd.DataFrame(models)"
      ]
    }
  ],
  "metadata": {
    "colab": {
      "provenance": []
    },
    "kernelspec": {
      "display_name": "Python 3",
      "name": "python3"
    },
    "language_info": {
      "codemirror_mode": {
        "name": "ipython",
        "version": 3
      },
      "file_extension": ".py",
      "mimetype": "text/x-python",
      "name": "python",
      "nbconvert_exporter": "python",
      "pygments_lexer": "ipython3",
      "version": "3.9.13"
    }
  },
  "nbformat": 4,
  "nbformat_minor": 0
}
